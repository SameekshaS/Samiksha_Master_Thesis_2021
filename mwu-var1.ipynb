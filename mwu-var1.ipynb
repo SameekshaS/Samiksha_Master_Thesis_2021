{
 "cells": [
  {
   "cell_type": "markdown",
   "metadata": {},
   "source": [
    "## FAIR USE POLICY\n",
    "**Please do not leave your Jupyter lab server idle for extended periods of time.** The Jupyter process, active Python kernels, and especially running Spark contexts, claim a minimum amount of cluster resources. These add up and will get starve resources of others eventually. Leaving your environment idle for a few hours (e.g., over lunch) is fine. But letting it idle overnight or for multiple days in which you are not actively using the cluster is not. You can kill the server from your SSH session, by pressing ctrl+c repeatedly, or by selecting *File->Shutdown* from the menu."
   ]
  },
  {
   "cell_type": "markdown",
   "metadata": {},
   "source": [
    "### Imports"
   ]
  },
  {
   "cell_type": "code",
   "execution_count": 1,
   "metadata": {},
   "outputs": [],
   "source": [
    "import os\n",
    "import time\n",
    "from datetime import datetime, timedelta, date\n",
    "import pprint\n",
    "\n",
    "import collections\n",
    "import numpy as np\n",
    "import pandas as pd\n",
    "import subprocess\n",
    "\n",
    "import pyspark\n",
    "# Find Spark\n",
    "import findspark\n",
    "findspark.init()\n",
    "\n",
    "\n",
    "from datetime import datetime, timedelta, date\n",
    "import datetime as dt\n",
    "from datetime import timedelta as td\n",
    "import os\n",
    "import pandas as pd\n",
    "import subprocess\n",
    "import re\n",
    "import pyarrow as pa\n",
    "import copy\n",
    "from pyspark.sql.types import DateType\n",
    "from string import digits\n",
    "from dateutil import parser\n",
    "\n",
    "import nltk\n",
    "import pyspark\n",
    "from pyspark.sql import *  \n",
    "from pyspark.sql.functions import *\n",
    "import pyspark.sql.functions as F \n",
    "from pyspark.sql import functions as F, Window\n",
    "from pyspark.sql.functions import from_unixtime\n",
    "from pyspark.sql.types import StringType\n",
    "from pyspark.sql.functions import udf\n",
    "from pyspark.sql.functions import mean as _mean\n",
    "from pyspark.sql.window import Window as W\n",
    "from pyspark.sql.types import *\n",
    "from pyspark.sql.functions import col\n",
    "from pyspark.sql.types import StructType, StructField, LongType\n",
    "from scipy import stats\n",
    "from scipy.stats import mannwhitneyu\n",
    "\n",
    "\n",
    "from functools import reduce\n",
    "from pyspark.ml.feature import Tokenizer, StopWordsRemover\n",
    "\n",
    "\n",
    "import json"
   ]
  },
  {
   "cell_type": "code",
   "execution_count": 2,
   "metadata": {},
   "outputs": [],
   "source": [
    "# Create a SparkConf\n",
    "APP_NAME = \"apwg-median-app\"\n",
    "\n",
    "spark_conf = pyspark.SparkConf().setAppName(APP_NAME).setMaster(\"yarn\").set(\n",
    "    \"spark.submit.deployMode\", \"client\"\n",
    ").set(\"spark.sql.parquet.binaryAsString\", \"true\"\n",
    ").set(\"spark.dynamicAllocation.maxExecutors\", \"16\"\n",
    ").set(\"spark.jars.packages\", \"com.johnsnowlabs.nlp:spark-nlp-spark24_2.11:3.0.0\"\n",
    ").set(\"spark.sql.debug.maxToStringFields\", \"1000\"\n",
    ").set(\"spark.executor.memory\", \"7G\")"
   ]
  },
  {
   "cell_type": "markdown",
   "metadata": {},
   "source": [
    "#### Start SparkContext\n",
    "1. This may take a minute to complete\n",
    "2. You should not (and cannot) start two Spark contexts. If you accidentally run this cell twice or get stuck somehow, restart your Python kernel from the menu above.\n",
    "3. Please **stop your Spark context** when idling for extended periods of time (see code at bottom of notebook)"
   ]
  },
  {
   "cell_type": "code",
   "execution_count": 3,
   "metadata": {},
   "outputs": [
    {
     "name": "stdout",
     "output_type": "stream",
     "text": [
      "[2021-05-06 00:41:36] Starting Spark context.\n"
     ]
    }
   ],
   "source": [
    "print(\"[{}] Starting Spark context.\".format(datetime.now().replace(microsecond=0)))\n",
    "\n",
    "# SparkContext\n",
    "sc = pyspark.SparkContext(conf=spark_conf)\n",
    "\n",
    "# SQLContext\n",
    "sqlc = pyspark.SQLContext(sc)"
   ]
  },
  {
   "cell_type": "markdown",
   "metadata": {},
   "source": [
    "### Your code below"
   ]
  },
  {
   "cell_type": "code",
   "execution_count": 4,
   "metadata": {},
   "outputs": [],
   "source": [
    "\n",
    "APWG_CLEAN_DATA_CONVERTED_BASE = \"PATH TO DATA-RECORDS\"\n",
    "\n",
    "INTEREST_DATE_START = datetime(2017, 12, 18)\n",
    "INTEREST_DATE_END   = datetime(2019, 8, 16)\n",
    "\n",
    "# Read JSON files into Spark DF\n",
    "clean_mails_df = sqlc.read.json(APWG_CLEAN_DATA_CONVERTED_BASE, multiLine=True).withColumn(\n",
    "    \"parsed_date\", F.from_unixtime(F.col(\"date_received\")).cast(\"date\")\n",
    ").filter(\n",
    "    # Filter date range of interest\n",
    "    (F.col(\"parsed_date\") >= INTEREST_DATE_START.date().isoformat()) &\n",
    "    (F.col(\"parsed_date\") <= INTEREST_DATE_END.date().isoformat())\n",
    ")\n",
    "\n",
    "#clean_mails_df.select(\"date\", \"modified\", \"parsed_date\").show(10, truncate = 150)"
   ]
  },
  {
   "cell_type": "code",
   "execution_count": 5,
   "metadata": {},
   "outputs": [],
   "source": [
    "#filter emails in english language\n",
    "original_df = clean_mails_df"
   ]
  },
  {
   "cell_type": "code",
   "execution_count": 6,
   "metadata": {},
   "outputs": [],
   "source": [
    "original_df = original_df.filter(original_df.language == \"english\")"
   ]
  },
  {
   "cell_type": "code",
   "execution_count": 7,
   "metadata": {},
   "outputs": [],
   "source": [
    "h1_df = original_df   \n",
    "h1_df = h1_df.select('parsed_date', 'id')"
   ]
  },
  {
   "cell_type": "code",
   "execution_count": 8,
   "metadata": {},
   "outputs": [],
   "source": [
    "remover = StopWordsRemover(inputCol='body_words', outputCol='words_clean')\n",
    "h2_df = remover.transform(original_df)\n",
    "\n",
    "h2_df = h2_df.drop(\"body_words\")\n",
    "\n",
    "word_list=['unsubscribed', 'hack', 'takedown', 'password', 'transparent',\\\n",
    "           'attempt', 'redirect', 'impersonate', 'network', 'obsolete', 'illegal', 'damage', 'edit',\\\n",
    "           'unauthenticated', 'initial', 'survey', 'collect', 'victim', 'detect', 'recharge', 'test',\\\n",
    "           'attachment', 'claim', 'profitable', 'virus', 'fraudulent', 'revalidation', 'link', 'description']\n",
    "\n",
    "#array_intersect function requires two arrays as arguments, create array from the list of given values:\n",
    "list_col = F.array(*[F.lit(cl) for cl in word_list])\n",
    "h2_df = h2_df.filter(F.size(F.array_intersect(F.col(\"words_clean\"), list_col)) > 0)\n",
    "h2_df = h2_df.select('parsed_date', 'id')"
   ]
  },
  {
   "cell_type": "code",
   "execution_count": 9,
   "metadata": {},
   "outputs": [],
   "source": [
    "h3_df = original_df.filter(original_df.email_has_attachments == \"1\")\n",
    "h3_df = h3_df.select('parsed_date', 'id')"
   ]
  },
  {
   "cell_type": "code",
   "execution_count": 10,
   "metadata": {},
   "outputs": [],
   "source": [
    "# announcement date of ddos attack\n",
    "\n",
    "ddos_list = ['2018-01-17', '2018-01-27', '2018-02-08', '2018-03-01', '2018-03-06', '2018-05-14', '2018-05-24', '2018-07-30',\\\n",
    "             '2019-01-16','2019-01-31', '2019-02-23', '2019-03-22', '2019-04-16', '2019-06-12', '2019-08-08']"
   ]
  },
  {
   "cell_type": "code",
   "execution_count": 11,
   "metadata": {
    "scrolled": true
   },
   "outputs": [],
   "source": [
    "#partitionBy is used to shuffle data before applying the functions\n",
    "def hypo_1(df, day):\n",
    "    \n",
    "    h1_df1 = (df.filter(f\"parsed_date < '{day}' and parsed_date > '{day}' - interval 10 days\")\n",
    "             .withColumn('rn', F.dense_rank().over(Window.orderBy(F.desc('parsed_date'))))\n",
    "             .filter('rn <= 3')\n",
    "             .drop('rn')\n",
    "             .withColumn('count_before', F.count('id').over(Window.partitionBy('parsed_date')))\n",
    "             .orderBy('parsed_date').withColumn('ddos_date', F.lit(day))\n",
    "          )\n",
    "\n",
    "    h1_df2 = (df.filter(f\"parsed_date < '{day}' + interval 10 days and parsed_date > '{day}'\")\n",
    "             .withColumn('rn', F.dense_rank().over(Window.orderBy('parsed_date')))\n",
    "             .filter('rn <= 3')\n",
    "             .drop('rn')\n",
    "             .withColumn('count_after', F.count('id').over(Window.partitionBy('parsed_date')))\n",
    "             .orderBy('parsed_date').withColumn('ddos_date', F.lit(day))\n",
    "          )\n",
    " \n",
    "    \n",
    "    return [h1_df1, h1_df2]"
   ]
  },
  {
   "cell_type": "code",
   "execution_count": 12,
   "metadata": {},
   "outputs": [],
   "source": [
    "def hypo_2(df, day):\n",
    "    \"\"\"\n",
    "    Example usage: df_list = hypo_2(df, '2017-12-18', 15)\n",
    "    Returns a list of 2 dataframes.\n",
    "    \"\"\"\n",
    "    h2_df1 = (df.filter(f\"parsed_date < '{day}' and parsed_date > '{day}' - interval 10 days\")\n",
    "             .withColumn('rn', F.dense_rank().over(Window.orderBy(F.desc('parsed_date'))))\n",
    "             .filter('rn <= 7')\n",
    "             .drop('rn')\n",
    "             .withColumn('count_before', F.count('id').over(Window.partitionBy('parsed_date')))\n",
    "             .orderBy('parsed_date').withColumn('ddos_date', F.lit(day))\n",
    "          )\n",
    " \n",
    "    \n",
    "    h2_df2 = (df.filter(f\"parsed_date < '{day}' + interval 10 days and parsed_date > '{day}'\")\n",
    "             .withColumn('rn', F.dense_rank().over(Window.orderBy('parsed_date')))\n",
    "             .filter('rn <= 7')\n",
    "             .drop('rn')\n",
    "             .withColumn('count_after', F.count('id').over(Window.partitionBy('parsed_date')))\n",
    "             .orderBy('parsed_date').withColumn('ddos_date', F.lit(day))\n",
    "          )\n",
    "    \n",
    "    return [h2_df1, h2_df2]"
   ]
  },
  {
   "cell_type": "code",
   "execution_count": 13,
   "metadata": {},
   "outputs": [],
   "source": [
    "def hypo_3(df, day):\n",
    "    \"\"\"\n",
    "    Example usage: df_list = hypo_3(df, '2017-12-18', 15)\n",
    "    Returns a list of 2 dataframes.\n",
    "    \"\"\"\n",
    "    h3_df1 = (df.filter(f\"parsed_date < '{day}' and parsed_date > '{day}' - interval 10 days\")\n",
    "             .withColumn('rn', F.dense_rank().over(Window.orderBy(F.desc('parsed_date'))))\n",
    "             .filter('rn <= 7')\n",
    "             .drop('rn')\n",
    "             .withColumn('count_before', F.count('id').over(Window.partitionBy('parsed_date')))\n",
    "             .orderBy('parsed_date').withColumn('ddos_date', F.lit(day))\n",
    "          )\n",
    "    \n",
    "    h3_df2 = (df.filter(f\"parsed_date < '{day}' + interval 10 days and parsed_date > '{day}'\")\n",
    "             .withColumn('rn', F.dense_rank().over(Window.orderBy('parsed_date')))\n",
    "             .filter('rn <= 7')\n",
    "             .drop('rn')\n",
    "             .withColumn('count_after', F.count('id').over(Window.partitionBy('parsed_date')))\n",
    "             .orderBy('parsed_date').withColumn('ddos_date', F.lit(day))\n",
    "          )\n",
    "\n",
    "    return [h3_df1, h3_df2]"
   ]
  },
  {
   "cell_type": "code",
   "execution_count": 14,
   "metadata": {
    "scrolled": true
   },
   "outputs": [],
   "source": [
    "h1_df1_list = []\n",
    "h1_df2_list = []\n",
    "\n",
    "for d in ddos_list:\n",
    "    h1_df1, h1_df2 = hypo_1(h1_df, d)\n",
    "    \n",
    "    h1_df1 = h1_df1.dropDuplicates(['parsed_date', 'count_before'])\n",
    "    h1_df2 = h1_df2.dropDuplicates(['parsed_date', 'count_after'])\n",
    "    \n",
    "    w_h1_df1= Window.partitionBy(h1_df1['ddos_date']).orderBy(F.desc('parsed_date'))\n",
    "    # Create column\n",
    "    h1_df1 = h1_df1.select('*', rank().over(w_h1_df1).alias('ColumnIndex'))\n",
    "    \n",
    "    w_h1_df2= Window.partitionBy(h1_df2['ddos_date']).orderBy(h1_df2['parsed_date'])\n",
    "    # Create column\n",
    "    h1_df2 = h1_df2.select('*', rank().over(w_h1_df2).alias('ColumnIndex'))\n",
    "    \n",
    "    h1_df1_list.append(h1_df1)\n",
    "    h1_df2_list.append(h1_df2)\n",
    "    \n",
    "    \n",
    "hypo1_df1 = reduce(DataFrame.unionAll, h1_df1_list)\n",
    "hypo1_df2 = reduce(DataFrame.unionAll, h1_df2_list)\n"
   ]
  },
  {
   "cell_type": "code",
   "execution_count": 15,
   "metadata": {},
   "outputs": [],
   "source": [
    "h2_df1_list = []\n",
    "h2_df2_list = []\n",
    "\n",
    "for d in ddos_list:\n",
    "    h2_df1, h2_df2 = hypo_2(h2_df, d)\n",
    "    \n",
    "    h2_df1 = h2_df1.dropDuplicates(['parsed_date', 'count_before'])\n",
    "    h2_df2 = h2_df2.dropDuplicates(['parsed_date', 'count_after'])\n",
    "    \n",
    "    w_h2_df1= Window.partitionBy(h2_df1['ddos_date']).orderBy(F.desc('parsed_date'))\n",
    "    # Create column\n",
    "    h2_df1 = h2_df1.select('*', rank().over(w_h2_df1).alias('ColumnIndex'))\n",
    "    \n",
    "    w_h2_df2= Window.partitionBy(h2_df2['ddos_date']).orderBy(h2_df2['parsed_date'])\n",
    "    # Create column\n",
    "    h2_df2 = h2_df2.select('*', rank().over(w_h2_df2).alias('ColumnIndex'))\n",
    "    \n",
    "    h2_df1_list.append(h2_df1)\n",
    "    h2_df2_list.append(h2_df2)\n",
    "    \n",
    "    \n",
    "hypo2_df1 = reduce(DataFrame.unionAll, h2_df1_list)\n",
    "hypo2_df2 = reduce(DataFrame.unionAll, h2_df2_list)\n"
   ]
  },
  {
   "cell_type": "code",
   "execution_count": 16,
   "metadata": {},
   "outputs": [],
   "source": [
    "h3_df1_list = []\n",
    "h3_df2_list = []\n",
    "\n",
    "for d in ddos_list:\n",
    "    h3_df1, h3_df2 = hypo_3(h3_df, d)\n",
    "    \n",
    "    h3_df1 = h3_df1.dropDuplicates(['parsed_date', 'count_before'])\n",
    "    h3_df2 = h3_df2.dropDuplicates(['parsed_date', 'count_after'])\n",
    "    \n",
    "    w_h3_df1= Window.partitionBy(h3_df1['ddos_date']).orderBy(F.desc('parsed_date'))\n",
    "    # Create column\n",
    "    h3_df1 = h3_df1.select('*', rank().over(w_h3_df1).alias('ColumnIndex'))\n",
    "    \n",
    "    w_h3_df2= Window.partitionBy(h3_df2['ddos_date']).orderBy(h3_df2['parsed_date'])\n",
    "    # Create column\n",
    "    h3_df2 = h3_df2.select('*', rank().over(w_h3_df2).alias('ColumnIndex'))\n",
    "    \n",
    "    h3_df1_list.append(h3_df1)\n",
    "    h3_df2_list.append(h3_df2)\n",
    "    \n",
    "\n",
    "hypo3_df1 = reduce(DataFrame.unionAll, h3_df1_list)\n",
    "hypo3_df2 = reduce(DataFrame.unionAll, h3_df2_list)\n"
   ]
  },
  {
   "cell_type": "code",
   "execution_count": 17,
   "metadata": {},
   "outputs": [
    {
     "name": "stdout",
     "output_type": "stream",
     "text": [
      "+----------+-----------------------------------------+-----------------+\n",
      "|ddos_date |arr_h1                                   |u_value & p_value|\n",
      "+----------+-----------------------------------------+-----------------+\n",
      "|2018-01-17|[[1228, 1170], [1063, 1037], [793, 1045]]|[5.0, 1.0]       |\n",
      "|2018-01-27|[[1126, 1271], [1301, 1334], [1106, 800]]|[4.0, 1.0]       |\n",
      "|2018-02-08|[[1230, 914], [1140, 1098], [1057, 846]] |[8.0, 0.19043027]|\n",
      "|2018-03-01|[[1187, 938], [1206, 1443], [1150, 741]] |[6.0, 0.6625206] |\n",
      "|2018-03-06|[[1238, 1196], [938, 79], [741, 1301]]   |[4.0, 1.0]       |\n",
      "|2018-05-14|[[711, 1213], [776, 1397], [1088, 1196]] |[0.0, 0.0808556] |\n",
      "|2018-05-24|[[1371, 1218], [1431, 911], [1372, 1353]]|[9.0, 0.0808556] |\n",
      "|2018-07-30|[[1258, 1352], [810, 1207], [994, 1332]] |[1.0, 0.19043027]|\n",
      "|2019-02-23|[[70, 1435], [1609, 49]]                 |[3.0, 0.6985354] |\n",
      "|2019-03-22|[[2962, 1607]]                           |[1.0, 1.0]       |\n",
      "|2019-04-16|[[140, 130], [1805, 1740]]               |[3.0, 0.6985354] |\n",
      "|2019-08-08|[[2134, 264], [136, 1], [2047, 1]]       |[8.0, 0.18403862]|\n",
      "+----------+-----------------------------------------+-----------------+\n",
      "\n"
     ]
    }
   ],
   "source": [
    "result_1 = hypo1_df1.join(\n",
    "    hypo1_df2, ['ddos_date', 'ColumnIndex']\n",
    ").drop('ColumnIndex').groupBy('ddos_date').agg(\n",
    "    F.collect_list(F.array('count_before', 'count_after')).alias('arr_h1')\n",
    ").withColumn(\n",
    "    'u_value & p_value', \n",
    "    F.udf(\n",
    "        lambda arr:\n",
    "            [float(j) for j in mannwhitneyu([i[0] for i in arr], [i[1] for i in arr], alternative='two-sided')],\n",
    "        'array<float>'\n",
    "    )('arr_h1')\n",
    ")\n",
    "\n",
    "result_1.orderBy(\"ddos_date\").show(30, truncate=False)"
   ]
  },
  {
   "cell_type": "code",
   "execution_count": 19,
   "metadata": {},
   "outputs": [
    {
     "name": "stdout",
     "output_type": "stream",
     "text": [
      "+----------+------------------------------------------------------------------------------------+-------------------+\n",
      "|ddos_date |arr_h2                                                                              |u_value & p_value  |\n",
      "+----------+------------------------------------------------------------------------------------+-------------------+\n",
      "|2018-01-17|[[528, 479], [369, 298], [429, 422], [478, 456], [503, 379], [380, 383], [277, 480]]|[26.0, 0.4491634]  |\n",
      "|2018-01-27|[[298, 486], [464, 339], [480, 318], [456, 417], [379, 437], [432, 477], [479, 527]]|[23.0, 0.60085106] |\n",
      "|2018-02-08|[[496, 425], [472, 327], [486, 413], [322, 428], [437, 431], [482, 363], [318, 582]]|[30.0, 0.26145163] |\n",
      "|2018-03-01|[[360, 483], [478, 515], [275, 466], [367, 517], [437, 465], [402, 263], [443, 332]]|[15.0, 0.89933175] |\n",
      "|2018-03-06|[[437, 47], [443, 49], [465, 33], [466, 517], [263, 515], [440, 35], [332, 45]]     |[35.0, 0.100668244]|\n",
      "|2018-05-14|[[484, 358], [470, 482], [352, 538], [259, 531], [211, 509], [580, 416], [401, 426]]|[15.0, 0.89933175] |\n",
      "|2018-05-24|[[416, 405], [538, 630], [358, 584], [474, 361], [693, 465], [482, 457], [426, 646]]|[23.0, 0.60085106] |\n",
      "|2018-07-30|[[554, 338], [516, 575], [585, 462], [282, 536], [646, 331], [554, 512], [405, 523]]|[32.0, 0.18528353] |\n",
      "|2019-02-23|[[595, 19], [34, 605]]                                                              |[2.0, 0.65073234]  |\n",
      "|2019-03-22|[[1200, 546]]                                                                       |[1.0, 0.5]         |\n",
      "|2019-04-16|[[33, 50], [640, 667]]                                                              |[1.0, 0.87736094]  |\n",
      "|2019-08-08|[[902, 116], [57, 707], [804, 1]]                                                   |[7.0, 0.19136654]  |\n",
      "+----------+------------------------------------------------------------------------------------+-------------------+\n",
      "\n"
     ]
    }
   ],
   "source": [
    "result_2 = hypo2_df1.join(\n",
    "    hypo2_df2, ['ddos_date', 'ColumnIndex']\n",
    ").drop('ColumnIndex').groupBy('ddos_date').agg(\n",
    "    F.collect_list(F.array('count_before', 'count_after')).alias('arr_h2')\n",
    ").withColumn(\n",
    "    'u_value & p_value', \n",
    "    F.udf(\n",
    "        lambda arr:\n",
    "            [float(j) for j in mannwhitneyu([i[0] for i in arr], [i[1] for i in arr], alternative='greater')],\n",
    "        'array<float>'\n",
    "    )('arr_h2')\n",
    ")\n",
    "\n",
    "result_2.orderBy(\"ddos_date\").show(25, truncate=False)"
   ]
  },
  {
   "cell_type": "code",
   "execution_count": 20,
   "metadata": {},
   "outputs": [
    {
     "name": "stdout",
     "output_type": "stream",
     "text": [
      "+----------+----------------------------------------------------------------------------------+-------------------+\n",
      "|ddos_date |arr_h3                                                                            |u_value & p_value  |\n",
      "+----------+----------------------------------------------------------------------------------+-------------------+\n",
      "|2018-01-17|[[209, 174], [106, 111], [115, 142], [178, 109], [189, 229], [63, 180], [132, 86]]|[24.0, 0.5]        |\n",
      "|2018-01-27|[[113, 216], [111, 140], [180, 95], [86, 234], [174, 154], [229, 250], [135, 97]] |[19.0, 0.26145163] |\n",
      "|2018-02-08|[[144, 191], [91, 165], [106, 91], [256, 121], [234, 124], [140, 176], [95, 169]] |[22.5, 0.42392048] |\n",
      "|2018-03-01|[[153, 103], [119, 165], [127, 337], [120, 63], [94, 133], [45, 252], [181, 216]] |[14.0, 0.100668244]|\n",
      "|2018-03-06|[[127, 23], [113, 12], [103, 9], [337, 6], [153, 19], [63, 216], [252, 165]]      |[39.0, 0.9723575]  |\n",
      "|2018-05-14|[[132, 121], [52, 117], [90, 97], [153, 122], [129, 71], [65, 136], [266, 195]]   |[24.0, 0.5]        |\n",
      "|2018-05-24|[[195, 66], [97, 554], [98, 23], [122, 217], [121, 134], [312, 72], [71, 142]]    |[25.0, 0.5508366]  |\n",
      "|2018-07-30|[[176, 57], [218, 139], [144, 143], [236, 98], [78, 163], [159, 180], [157, 147]] |[35.0, 0.9200679]  |\n",
      "|2019-02-23|[[260, 7], [13, 179]]                                                             |[3.0, 0.87736094]  |\n",
      "|2019-03-22|[[187, 107]]                                                                      |[1.0, 0.97724986]  |\n",
      "|2019-04-16|[[236, 255], [13, 13]]                                                            |[1.5, 0.5]         |\n",
      "|2019-08-08|[[163, 95], [243, 23]]                                                            |[4.0, 0.9735962]   |\n",
      "+----------+----------------------------------------------------------------------------------+-------------------+\n",
      "\n"
     ]
    }
   ],
   "source": [
    "result_3 = hypo3_df1.join(\n",
    "    hypo3_df2, ['ddos_date', 'ColumnIndex']\n",
    ").drop('ColumnIndex').groupBy('ddos_date').agg(\n",
    "    F.collect_list(F.array('count_before', 'count_after')).alias('arr_h3')\n",
    ").withColumn(\n",
    "    'u_value & p_value', \n",
    "    F.udf(\n",
    "        lambda arr:\n",
    "            [float(j) for j in mannwhitneyu([i[0] for i in arr], [i[1] for i in arr], alternative='less')],\n",
    "        'array<float>'\n",
    "    )('arr_h3')\n",
    ")\n",
    "\n",
    "result_3.orderBy(\"ddos_date\").show(25, truncate=False)"
   ]
  },
  {
   "cell_type": "markdown",
   "metadata": {},
   "source": [
    "#### Stop the SparkContext\n",
    "note: don't run this block unless you actually want to stop your context"
   ]
  },
  {
   "cell_type": "code",
   "execution_count": 21,
   "metadata": {},
   "outputs": [
    {
     "name": "stdout",
     "output_type": "stream",
     "text": [
      "[2021-05-06 05:20:25] Stopping Spark context.\n"
     ]
    }
   ],
   "source": [
    "print(\"[{}] Stopping Spark context.\".format(datetime.now().replace(microsecond=0)))\n",
    "sc.stop()"
   ]
  }
 ],
 "metadata": {
  "kernelspec": {
   "display_name": "Python 3",
   "language": "python",
   "name": "python3"
  },
  "language_info": {
   "codemirror_mode": {
    "name": "ipython",
    "version": 3
   },
   "file_extension": ".py",
   "mimetype": "text/x-python",
   "name": "python",
   "nbconvert_exporter": "python",
   "pygments_lexer": "ipython3",
   "version": "3.7.6"
  }
 },
 "nbformat": 4,
 "nbformat_minor": 4
}
